{
 "metadata": {
  "language_info": {
   "codemirror_mode": {
    "name": "ipython",
    "version": 3
   },
   "file_extension": ".py",
   "mimetype": "text/x-python",
   "name": "python",
   "nbconvert_exporter": "python",
   "pygments_lexer": "ipython3",
   "version": "3.7.6-final"
  },
  "orig_nbformat": 2,
  "kernelspec": {
   "name": "python3",
   "display_name": "Python 3.7.6 64-bit ('venv-emle')",
   "metadata": {
    "interpreter": {
     "hash": "3f4b2d32f4c63c2ae9738e5ba3619db45fa76db7d3ff8af2f09ac2f4afbb5147"
    }
   }
  }
 },
 "nbformat": 4,
 "nbformat_minor": 2,
 "cells": [
  {
   "source": [
    "# Deploy inference Server using KFServing"
   ],
   "cell_type": "markdown",
   "metadata": {}
  },
  {
   "cell_type": "code",
   "execution_count": 1,
   "metadata": {},
   "outputs": [],
   "source": [
    "from kubernetes import client"
   ]
  },
  {
   "cell_type": "code",
   "execution_count": 2,
   "metadata": {},
   "outputs": [],
   "source": [
    "from kfserving import KFServingClient, constants, utils, V1alpha2EndpointSpec, V1alpha2PredictorSpec, V1alpha2SKLearnSpec, V1alpha2InferenceService, V1alpha2InferenceServiceSpec\n",
    "from kubernetes.client import V1ResourceRequirements, V1ObjectMeta"
   ]
  },
  {
   "cell_type": "code",
   "execution_count": 3,
   "metadata": {},
   "outputs": [],
   "source": [
    "api_version = constants.KFSERVING_GROUP + '/' + constants.KFSERVING_VERSION\n",
    "kind = constants.KFSERVING_KIND\n",
    "namespace = 'explainable-ml-engine'\n",
    "storage_uri = 'gs://deeploy-ml/explainable-ml-engine/model'\n",
    "service_account_name = 'kfserving-service-credentials'"
   ]
  },
  {
   "cell_type": "code",
   "execution_count": null,
   "metadata": {},
   "outputs": [],
   "source": [
    "KFServing = KFServingClient()\n",
    "# https://cloud.google.com/docs/authentication/getting-started\n",
    "KFServing.set_credentials(storage_type='GCS', \n",
    "                          namespace=namespace,\n",
    "                          credentials_file='tmp/gcp.json',\n",
    "                          service_account=service_account_name)"
   ]
  },
  {
   "cell_type": "code",
   "execution_count": null,
   "metadata": {},
   "outputs": [],
   "source": [
    "default_endpoint_spec = V1alpha2EndpointSpec(\n",
    "    predictor=V1alpha2PredictorSpec(\n",
    "        service_account_name=service_account_name,\n",
    "        sklearn=V1alpha2SKLearnSpec(\n",
    "            storage_uri=storage_uri,\n",
    "            runtime_version='v0.4.1',\n",
    "            resources=V1ResourceRequirements(\n",
    "                requests={'cpu':'100m','memory':'256Mi'},\n",
    "                limits={'cpu':'250m', 'memory':'1Gi'}\n",
    "                )\n",
    "            )\n",
    "        )\n",
    "    )"
   ]
  },
  {
   "cell_type": "code",
   "execution_count": null,
   "metadata": {},
   "outputs": [],
   "source": [
    "inference_svc = V1alpha2InferenceService(\n",
    "    api_version=api_version,\n",
    "    kind=kind,\n",
    "    metadata=V1ObjectMeta(\n",
    "        name='iris-test', \n",
    "        namespace=namespace\n",
    "    ),\n",
    "    spec=V1alpha2InferenceServiceSpec(\n",
    "        default=default_endpoint_spec\n",
    "    )\n",
    ")"
   ]
  },
  {
   "cell_type": "code",
   "execution_count": null,
   "metadata": {},
   "outputs": [],
   "source": [
    "KFServing.create(inference_svc)"
   ]
  },
  {
   "cell_type": "code",
   "execution_count": null,
   "metadata": {},
   "outputs": [],
   "source": [
    "KFServing.delete('iris-test', namespace=namespace)"
   ]
  },
  {
   "cell_type": "code",
   "execution_count": null,
   "metadata": {},
   "outputs": [],
   "source": []
  },
  {
   "cell_type": "code",
   "execution_count": null,
   "metadata": {},
   "outputs": [],
   "source": []
  },
  {
   "cell_type": "code",
   "execution_count": null,
   "metadata": {},
   "outputs": [],
   "source": [
    "print('The scikit-learn version is {}.'.format(sklearn.__version__))"
   ]
  },
  {
   "cell_type": "code",
   "execution_count": null,
   "metadata": {},
   "outputs": [],
   "source": []
  }
 ]
}