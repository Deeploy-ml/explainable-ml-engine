{
 "metadata": {
  "language_info": {
   "codemirror_mode": {
    "name": "ipython",
    "version": 3
   },
   "file_extension": ".py",
   "mimetype": "text/x-python",
   "name": "python",
   "nbconvert_exporter": "python",
   "pygments_lexer": "ipython3",
   "version": "3.7.9-final"
  },
  "orig_nbformat": 2,
  "kernelspec": {
   "name": "python3",
   "display_name": "Python 3.7.9 64-bit",
   "metadata": {
    "interpreter": {
     "hash": "86987a35bba24c116ce14a19e15891b3394bdd8adadaef2777f76179d7981106"
    }
   }
  }
 },
 "nbformat": 4,
 "nbformat_minor": 2,
 "cells": [
  {
   "source": [
    "# Deploy inference Server using KFServing"
   ],
   "cell_type": "markdown",
   "metadata": {}
  },
  {
   "cell_type": "code",
   "execution_count": null,
   "metadata": {},
   "outputs": [],
   "source": [
    "from kubernetes import client"
   ]
  },
  {
   "cell_type": "code",
   "execution_count": null,
   "metadata": {},
   "outputs": [],
   "source": [
    "from kfserving import KFServingClient, constants, utils, V1alpha2EndpointSpec, V1alpha2PredictorSpec, V1alpha2ExplainerSpec, V1alpha2SKLearnSpec, V1alpha2AlibiExplainerSpec, V1alpha2InferenceService, V1alpha2InferenceServiceSpec\n",
    "from kubernetes.client import V1ResourceRequirements, V1ObjectMeta"
   ]
  },
  {
   "source": [
    "# Define constants"
   ],
   "cell_type": "markdown",
   "metadata": {}
  },
  {
   "cell_type": "code",
   "execution_count": null,
   "metadata": {},
   "outputs": [],
   "source": [
    "api_version = constants.KFSERVING_GROUP + '/' + constants.KFSERVING_VERSION\n",
    "kind = constants.KFSERVING_KIND\n",
    "namespace = 'explainable-ml-engine-demo'\n",
    "model_storage_uri = 'gs://deeploy-ml/explainable-ml-engine/model'\n",
    "explainer_storage_uri = 'gs://deeploy-ml/explainable-ml-engine/explainer'\n",
    "service_account_name = 'kfserving-service-credentials'"
   ]
  },
  {
   "source": [
    "# Create service account with GCS credentials (if not public)\n",
    ">Do this once"
   ],
   "cell_type": "markdown",
   "metadata": {}
  },
  {
   "cell_type": "code",
   "execution_count": null,
   "metadata": {},
   "outputs": [],
   "source": [
    "KFServing = KFServingClient()\n",
    "# https://cloud.google.com/docs/authentication/getting-started\n",
    "KFServing.set_credentials(storage_type='GCS', \n",
    "                          namespace=namespace,\n",
    "                          credentials_file='tmp/gcp.json',\n",
    "                          service_account=service_account_name)"
   ]
  },
  {
   "source": [
    "# Create inference with explainer service"
   ],
   "cell_type": "markdown",
   "metadata": {}
  },
  {
   "cell_type": "code",
   "execution_count": null,
   "metadata": {},
   "outputs": [],
   "source": [
    "KFServing = KFServingClient()"
   ]
  },
  {
   "cell_type": "code",
   "execution_count": null,
   "metadata": {},
   "outputs": [],
   "source": [
    "default_endpoint_spec = V1alpha2EndpointSpec(\n",
    "    predictor=V1alpha2PredictorSpec(\n",
    "        service_account_name=service_account_name,\n",
    "        #min_replicas=0,\n",
    "        sklearn=V1alpha2SKLearnSpec(\n",
    "            storage_uri=model_storage_uri,\n",
    "            runtime_version='v0.4.1',\n",
    "            resources=V1ResourceRequirements(\n",
    "                requests={'cpu':'100m','memory':'256Mi'},\n",
    "                limits={'cpu':'250m', 'memory':'1Gi'}\n",
    "                )\n",
    "            )\n",
    "        ),\n",
    "    explainer=V1alpha2ExplainerSpec(\n",
    "        service_account_name=service_account_name,\n",
    "        alibi=V1alpha2AlibiExplainerSpec(\n",
    "            storage_uri=explainer_storage_uri,\n",
    "            type='AnchorTabular',\n",
    "            resources=V1ResourceRequirements(\n",
    "                requests={'cpu':'100m','memory':'256Mi'},\n",
    "                limits={'cpu':'250m', 'memory':'2Gi'}\n",
    "            )\n",
    "\n",
    "        )\n",
    "    )\n",
    ")"
   ]
  },
  {
   "cell_type": "code",
   "execution_count": null,
   "metadata": {},
   "outputs": [],
   "source": [
    "inference_svc = V1alpha2InferenceService(\n",
    "    api_version=api_version,\n",
    "    kind=kind,\n",
    "    metadata=V1ObjectMeta(\n",
    "        name='income-model', \n",
    "        namespace=namespace\n",
    "    ),\n",
    "    spec=V1alpha2InferenceServiceSpec(\n",
    "        default=default_endpoint_spec,\n",
    "        #canary=default_endpoint_spec,\n",
    "        #canary_traffic_percent=10\n",
    "    )\n",
    ")"
   ]
  },
  {
   "cell_type": "code",
   "execution_count": null,
   "metadata": {},
   "outputs": [],
   "source": [
    "KFServing.create(inference_svc)"
   ]
  },
  {
   "source": [
    "# Clean up"
   ],
   "cell_type": "markdown",
   "metadata": {}
  },
  {
   "cell_type": "code",
   "execution_count": 18,
   "metadata": {},
   "outputs": [
    {
     "output_type": "execute_result",
     "data": {
      "text/plain": [
       "{'kind': 'Status',\n",
       " 'apiVersion': 'v1',\n",
       " 'metadata': {},\n",
       " 'status': 'Success',\n",
       " 'details': {'name': 'income-model',\n",
       "  'group': 'serving.kubeflow.org',\n",
       "  'kind': 'inferenceservices',\n",
       "  'uid': 'f433b086-7503-431e-bd0e-f602799f4260'}}"
      ]
     },
     "metadata": {},
     "execution_count": 18
    }
   ],
   "source": [
    "KFServing.delete('income-model', namespace=namespace)"
   ]
  }
 ]
}