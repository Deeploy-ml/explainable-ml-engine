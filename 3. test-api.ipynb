{
 "metadata": {
  "language_info": {
   "codemirror_mode": {
    "name": "ipython",
    "version": 3
   },
   "file_extension": ".py",
   "mimetype": "text/x-python",
   "name": "python",
   "nbconvert_exporter": "python",
   "pygments_lexer": "ipython3",
   "version": "3.7.9-final"
  },
  "orig_nbformat": 2,
  "kernelspec": {
   "name": "python3",
   "display_name": "Python 3.7.9 64-bit ('emle-env': conda)",
   "metadata": {
    "interpreter": {
     "hash": "86987a35bba24c116ce14a19e15891b3394bdd8adadaef2777f76179d7981106"
    }
   }
  }
 },
 "nbformat": 4,
 "nbformat_minor": 2,
 "cells": [
  {
   "source": [
    "# Test inference service API"
   ],
   "cell_type": "markdown",
   "metadata": {}
  },
  {
   "cell_type": "code",
   "execution_count": null,
   "metadata": {},
   "outputs": [],
   "source": [
    "import requests"
   ]
  },
  {
   "cell_type": "code",
   "execution_count": null,
   "metadata": {},
   "outputs": [],
   "source": [
    "model_name='income-model'\n",
    "namespace='explainable-ml-engine-demo'\n",
    "host=model=model_name+'.'+namespace+'.example.com'\n",
    "ingress_host='localhost'\n",
    "port=8080"
   ]
  },
  {
   "source": [
    "# Port forward inference service| API\n",
    "In terminal:\n",
    "```bash\n",
    "INGRESS_GATEWAY_SERVICE=$(kubectl get svc --namespace istio-system --selector=\"app=istio-ingressgateway\" --output jsonpath='{.items[0].metadata.name}')\n",
    "kubectl port-forward --namespace istio-system svc/${INGRESS_GATEWAY_SERVICE} 8080:80\n",
    "```"
   ],
   "cell_type": "markdown",
   "metadata": {}
  },
  {
   "cell_type": "code",
   "execution_count": null,
   "metadata": {},
   "outputs": [],
   "source": [
    "inference_service_url='http://'+ingress_host+':'+str(port)+'/v1/models/'+model_name\n",
    "inference_service_url"
   ]
  },
  {
   "cell_type": "code",
   "execution_count": null,
   "metadata": {},
   "outputs": [],
   "source": [
    "inference_service_url_predict=inference_service_url+':predict'\n",
    "inference_service_url_predict"
   ]
  },
  {
   "cell_type": "code",
   "execution_count": null,
   "metadata": {},
   "outputs": [],
   "source": [
    "inference_service_url_explain=inference_service_url+':explain'\n",
    "inference_service_url_explain"
   ]
  },
  {
   "source": [
    "# Data API\n",
    "in terminal: `uvicorn fetch_data_api:app --reload`"
   ],
   "cell_type": "markdown",
   "metadata": {}
  },
  {
   "cell_type": "code",
   "execution_count": null,
   "metadata": {},
   "outputs": [],
   "source": [
    "random_nr=187"
   ]
  },
  {
   "cell_type": "code",
   "execution_count": null,
   "metadata": {},
   "outputs": [],
   "source": [
    "fetch_data_url='http://localhost:8000/person/'+str(random_nr)\n",
    "fetch_data_url_ml='http://localhost:8000/person/'+str(random_nr)+'/ml'"
   ]
  },
  {
   "cell_type": "code",
   "execution_count": null,
   "metadata": {},
   "outputs": [],
   "source": [
    "person=requests.get(fetch_data_url).json()\n",
    "person"
   ]
  },
  {
   "cell_type": "code",
   "execution_count": null,
   "metadata": {},
   "outputs": [],
   "source": [
    "model_input=requests.get(fetch_data_url).json()\n",
    "model_input"
   ]
  },
  {
   "cell_type": "code",
   "execution_count": null,
   "metadata": {},
   "outputs": [],
   "source": [
    "respons=requests.post(inference_service_url_explain, headers={'Host': host}, json=model_input)\n",
    "respons.json()"
   ]
  },
  {
   "cell_type": "code",
   "execution_count": null,
   "metadata": {},
   "outputs": [],
   "source": [
    "print(respons.json()['data']['raw']['prediction'])\n",
    "print(respons.json()['data']['anchor'])\n",
    "print(respons.json()['data']['precision'])\n",
    "print(respons.json()['data']['coverage'])"
   ]
  }
 ]
}