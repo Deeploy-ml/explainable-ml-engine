{
 "metadata": {
  "language_info": {
   "codemirror_mode": {
    "name": "ipython",
    "version": 3
   },
   "file_extension": ".py",
   "mimetype": "text/x-python",
   "name": "python",
   "nbconvert_exporter": "python",
   "pygments_lexer": "ipython3",
   "version": "3.7.9-final"
  },
  "orig_nbformat": 2,
  "kernelspec": {
   "name": "python3",
   "display_name": "Python 3.7.9 64-bit ('emle-env': conda)",
   "metadata": {
    "interpreter": {
     "hash": "86987a35bba24c116ce14a19e15891b3394bdd8adadaef2777f76179d7981106"
    }
   }
  }
 },
 "nbformat": 4,
 "nbformat_minor": 2,
 "cells": [
  {
   "source": [
    "# Test API inference service"
   ],
   "cell_type": "markdown",
   "metadata": {}
  },
  {
   "cell_type": "code",
   "execution_count": 1,
   "metadata": {},
   "outputs": [],
   "source": [
    "import requests"
   ]
  },
  {
   "cell_type": "code",
   "execution_count": 2,
   "metadata": {},
   "outputs": [],
   "source": [
    "model_name='income-model'\n",
    "namespace='explainable-ml-engine-demo'\n",
    "host=model=model_name+'.'+namespace+'.example.com'\n",
    "ingress_host='localhost'\n",
    "port=8080"
   ]
  },
  {
   "source": [
    "In terminal:\n",
    "```bash\n",
    "INGRESS_GATEWAY_SERVICE=$(kubectl get svc --namespace istio-system --selector=\"app=istio-ingressgateway\" --output jsonpath='{.items[0].metadata.name}')\n",
    "kubectl port-forward --namespace istio-system svc/${INGRESS_GATEWAY_SERVICE} 8080:80\n",
    "```"
   ],
   "cell_type": "markdown",
   "metadata": {}
  },
  {
   "cell_type": "code",
   "execution_count": 3,
   "metadata": {},
   "outputs": [
    {
     "output_type": "execute_result",
     "data": {
      "text/plain": [
       "'http://localhost:8080/v1/models/income-model'"
      ]
     },
     "metadata": {},
     "execution_count": 3
    }
   ],
   "source": [
    "inference_service_url='http://'+ingress_host+':'+str(port)+'/v1/models/'+model_name\n",
    "inference_service_url"
   ]
  },
  {
   "cell_type": "code",
   "execution_count": 4,
   "metadata": {},
   "outputs": [
    {
     "output_type": "execute_result",
     "data": {
      "text/plain": [
       "'http://localhost:8080/v1/models/income-model:predict'"
      ]
     },
     "metadata": {},
     "execution_count": 4
    }
   ],
   "source": [
    "inference_service_url_predict=inference_service_url+':predict'\n",
    "inference_service_url_predict"
   ]
  },
  {
   "cell_type": "code",
   "execution_count": 5,
   "metadata": {},
   "outputs": [
    {
     "output_type": "execute_result",
     "data": {
      "text/plain": [
       "'http://localhost:8080/v1/models/income-model:explain'"
      ]
     },
     "metadata": {},
     "execution_count": 5
    }
   ],
   "source": [
    "inference_service_url_explain=inference_service_url+':explain'\n",
    "inference_service_url_explain"
   ]
  },
  {
   "cell_type": "code",
   "execution_count": 6,
   "metadata": {},
   "outputs": [],
   "source": [
    "model_input = {\n",
    "  \"instances\":[\n",
    "    [39, 7, 1, 1, 1, 1, 4, 1, 2174, 0, 40, 9]\n",
    "    ]\n",
    "  }"
   ]
  },
  {
   "cell_type": "code",
   "execution_count": 7,
   "metadata": {},
   "outputs": [],
   "source": [
    "respons=requests.post(inference_service_url_explain, headers={'Host': host}, json=model_input)"
   ]
  },
  {
   "cell_type": "code",
   "execution_count": 90,
   "metadata": {},
   "outputs": [
    {
     "output_type": "execute_result",
     "data": {
      "text/plain": [
       "{'meta': {'name': 'AnchorTabular',\n",
       "  'type': ['blackbox'],\n",
       "  'explanations': ['local'],\n",
       "  'params': {'seed': None,\n",
       "   'disc_perc': [25, 50, 75],\n",
       "   'threshold': 0.95,\n",
       "   'delta': 0.1,\n",
       "   'tau': 0.15,\n",
       "   'batch_size': 100,\n",
       "   'coverage_samples': 10000,\n",
       "   'beam_size': 1,\n",
       "   'stop_on_first': False,\n",
       "   'max_anchor_size': None,\n",
       "   'min_samples_start': 100,\n",
       "   'n_covered_ex': 10,\n",
       "   'binary_cache_size': 10000,\n",
       "   'cache_margin': 1000,\n",
       "   'verbose': False,\n",
       "   'verbose_every': 1,\n",
       "   'kwargs': {}}},\n",
       " 'data': {'anchor': ['Hours per week <= 40.00',\n",
       "   'Capital Gain <= 0.00',\n",
       "   'Capital Loss <= 0.00',\n",
       "   'Workclass = Self-emp-not-inc'],\n",
       "  'precision': 0.9113082039911308,\n",
       "  'coverage': 0.7055333333333333,\n",
       "  'raw': {'feature': [10, 8, 9, 1, 10],\n",
       "   'mean': [0.8201595358955766,\n",
       "    0.8565768621236133,\n",
       "    0.8736401673640167,\n",
       "    0.8872180451127819,\n",
       "    0.9113082039911308],\n",
       "   'precision': [0.8201595358955766,\n",
       "    0.8565768621236133,\n",
       "    0.8736401673640167,\n",
       "    0.8872180451127819,\n",
       "    0.9113082039911308],\n",
       "   'coverage': [0.7802666666666667,\n",
       "    0.9168,\n",
       "    0.9168,\n",
       "    0.7802666666666667,\n",
       "    0.7055333333333333],\n",
       "   'examples': [{'covered_true': [[66, 6, 3, 0, 2, 0, 4, 1, 0, 0, 40, 9],\n",
       "      [29, 2, 0, 1, 1, 1, 4, 1, 3674, 0, 25, 9],\n",
       "      [25, 4, 4, 1, 6, 3, 4, 1, 0, 0, 40, 9],\n",
       "      [40, 2, 4, 0, 8, 0, 4, 1, 0, 0, 40, 9],\n",
       "      [35, 4, 4, 2, 2, 4, 4, 1, 0, 0, 40, 9],\n",
       "      [36, 4, 4, 0, 2, 0, 4, 1, 0, 0, 8, 9],\n",
       "      [18, 4, 4, 1, 6, 3, 4, 0, 0, 0, 40, 9],\n",
       "      [28, 0, 4, 0, 0, 5, 4, 0, 3103, 0, 40, 9],\n",
       "      [17, 4, 3, 1, 6, 3, 4, 1, 0, 0, 30, 9],\n",
       "      [43, 2, 4, 2, 2, 1, 2, 1, 0, 0, 40, 9]],\n",
       "     'covered_false': [[63, 6, 1, 0, 6, 0, 4, 1, 0, 0, 40, 9],\n",
       "      [50, 4, 4, 0, 2, 0, 4, 1, 0, 0, 40, 9],\n",
       "      [48, 5, 6, 0, 5, 0, 4, 1, 15024, 0, 45, 9],\n",
       "      [32, 4, 1, 1, 8, 2, 4, 1, 0, 2444, 40, 9],\n",
       "      [43, 4, 4, 0, 7, 0, 4, 1, 0, 0, 40, 9],\n",
       "      [35, 4, 0, 0, 8, 0, 4, 1, 7298, 0, 40, 9],\n",
       "      [33, 6, 1, 0, 5, 0, 2, 1, 0, 0, 40, 9],\n",
       "      [72, 1, 4, 0, 1, 0, 4, 1, 0, 0, 40, 9],\n",
       "      [49, 1, 5, 0, 1, 0, 4, 1, 0, 0, 45, 9],\n",
       "      [47, 1, 1, 0, 8, 0, 4, 1, 0, 0, 40, 9]],\n",
       "     'uncovered_true': [],\n",
       "     'uncovered_false': []},\n",
       "    {'covered_true': [[36, 1, 4, 2, 1, 4, 2, 0, 0, 0, 45, 9],\n",
       "      [29, 4, 1, 1, 5, 1, 4, 1, 0, 0, 2, 9],\n",
       "      [36, 4, 4, 2, 7, 2, 2, 0, 0, 0, 40, 9],\n",
       "      [18, 4, 4, 1, 6, 1, 4, 0, 0, 1721, 8, 9],\n",
       "      [19, 4, 3, 1, 2, 2, 4, 1, 0, 0, 1, 9],\n",
       "      [40, 4, 0, 0, 6, 0, 4, 1, 0, 0, 16, 9],\n",
       "      [52, 4, 4, 0, 2, 0, 4, 1, 0, 0, 18, 9],\n",
       "      [27, 4, 3, 0, 2, 3, 4, 1, 0, 0, 20, 9],\n",
       "      [20, 4, 4, 1, 7, 3, 2, 1, 0, 0, 40, 9],\n",
       "      [26, 4, 4, 0, 1, 5, 4, 0, 0, 0, 12, 9]],\n",
       "     'covered_false': [[57, 4, 2, 0, 5, 0, 1, 1, 0, 0, 40, 2],\n",
       "      [62, 5, 5, 0, 6, 0, 4, 1, 0, 0, 40, 9],\n",
       "      [31, 4, 1, 0, 8, 0, 4, 1, 0, 2246, 4, 9],\n",
       "      [34, 4, 1, 0, 5, 0, 4, 1, 0, 0, 40, 9],\n",
       "      [36, 5, 0, 0, 8, 0, 4, 1, 0, 0, 45, 9],\n",
       "      [42, 1, 5, 0, 8, 0, 4, 1, 0, 0, 40, 9],\n",
       "      [40, 4, 4, 0, 6, 0, 4, 1, 0, 0, 40, 9],\n",
       "      [54, 6, 1, 0, 8, 0, 4, 1, 0, 0, 45, 9],\n",
       "      [61, 4, 4, 0, 2, 0, 4, 1, 0, 0, 45, 9],\n",
       "      [43, 4, 1, 0, 2, 0, 4, 1, 0, 1887, 40, 9]],\n",
       "     'uncovered_true': [],\n",
       "     'uncovered_false': []},\n",
       "    {'covered_true': [[18, 4, 4, 1, 7, 3, 4, 1, 0, 0, 40, 9],\n",
       "      [33, 2, 0, 0, 4, 0, 4, 1, 0, 0, 24, 9],\n",
       "      [21, 4, 4, 1, 1, 2, 4, 0, 0, 0, 40, 9],\n",
       "      [36, 7, 4, 1, 8, 4, 2, 1, 0, 0, 20, 9],\n",
       "      [46, 4, 4, 2, 5, 1, 4, 0, 0, 0, 30, 9],\n",
       "      [41, 2, 1, 2, 5, 1, 4, 1, 0, 0, 40, 9],\n",
       "      [45, 4, 4, 0, 2, 0, 4, 1, 0, 0, 40, 9],\n",
       "      [44, 6, 0, 3, 5, 4, 4, 0, 0, 0, 40, 9],\n",
       "      [17, 4, 3, 1, 6, 3, 4, 0, 0, 0, 40, 9],\n",
       "      [33, 4, 1, 0, 1, 0, 4, 1, 0, 0, 25, 9]],\n",
       "     'covered_false': [[43, 2, 5, 0, 8, 5, 0, 0, 0, 0, 40, 9],\n",
       "      [39, 2, 5, 0, 5, 0, 4, 1, 0, 0, 35, 9],\n",
       "      [43, 5, 4, 0, 8, 0, 4, 1, 0, 0, 20, 9],\n",
       "      [43, 4, 4, 0, 6, 0, 4, 1, 0, 0, 40, 9],\n",
       "      [37, 4, 1, 0, 8, 0, 4, 1, 0, 0, 40, 9],\n",
       "      [49, 4, 1, 0, 6, 0, 4, 1, 0, 0, 40, 9],\n",
       "      [47, 4, 1, 0, 8, 0, 4, 1, 0, 0, 40, 9],\n",
       "      [60, 4, 0, 0, 1, 0, 4, 1, 0, 0, 40, 9],\n",
       "      [37, 5, 0, 0, 6, 0, 4, 1, 0, 0, 40, 9],\n",
       "      [41, 7, 2, 0, 5, 0, 4, 1, 0, 0, 40, 9]],\n",
       "     'uncovered_true': [],\n",
       "     'uncovered_false': []},\n",
       "    {'covered_true': [[37, 6, 4, 0, 2, 0, 4, 1, 0, 0, 40, 9],\n",
       "      [20, 6, 3, 1, 2, 3, 4, 1, 0, 0, 45, 9],\n",
       "      [32, 6, 0, 0, 2, 0, 4, 1, 0, 0, 40, 9],\n",
       "      [37, 6, 4, 2, 7, 4, 2, 0, 0, 0, 40, 9],\n",
       "      [45, 6, 4, 0, 2, 0, 4, 1, 0, 0, 45, 9],\n",
       "      [25, 6, 1, 1, 5, 1, 4, 1, 0, 0, 35, 9],\n",
       "      [40, 6, 4, 2, 7, 1, 4, 0, 0, 0, 20, 9],\n",
       "      [30, 6, 4, 2, 7, 4, 4, 0, 0, 0, 40, 9],\n",
       "      [66, 6, 4, 1, 2, 1, 4, 1, 0, 0, 40, 9],\n",
       "      [59, 6, 3, 0, 1, 0, 4, 1, 0, 0, 30, 9]],\n",
       "     'covered_false': [[38, 6, 2, 0, 5, 5, 4, 0, 0, 0, 40, 0],\n",
       "      [45, 6, 0, 0, 6, 0, 4, 1, 0, 0, 45, 9],\n",
       "      [55, 6, 1, 0, 1, 0, 4, 1, 0, 0, 35, 9],\n",
       "      [34, 6, 0, 0, 1, 5, 4, 0, 0, 0, 45, 9],\n",
       "      [53, 6, 5, 0, 5, 0, 4, 1, 0, 0, 30, 9],\n",
       "      [42, 6, 1, 0, 6, 0, 4, 1, 0, 0, 35, 9],\n",
       "      [55, 6, 1, 0, 8, 0, 4, 1, 0, 0, 40, 9],\n",
       "      [53, 6, 0, 0, 6, 0, 4, 1, 0, 0, 40, 9],\n",
       "      [50, 6, 1, 0, 8, 0, 4, 1, 0, 0, 40, 0],\n",
       "      [38, 6, 5, 0, 5, 0, 4, 1, 0, 0, 45, 1]],\n",
       "     'uncovered_true': [],\n",
       "     'uncovered_false': []},\n",
       "    {'covered_true': [[52, 6, 4, 2, 1, 1, 4, 0, 0, 0, 20, 9],\n",
       "      [36, 6, 4, 0, 8, 0, 4, 1, 0, 0, 25, 9],\n",
       "      [27, 6, 4, 1, 2, 1, 4, 1, 0, 0, 40, 9],\n",
       "      [53, 6, 4, 0, 8, 5, 4, 0, 0, 0, 20, 9],\n",
       "      [29, 6, 4, 2, 1, 3, 4, 0, 0, 0, 40, 9],\n",
       "      [27, 6, 4, 0, 6, 0, 4, 1, 0, 0, 40, 9],\n",
       "      [34, 6, 4, 0, 6, 0, 4, 0, 0, 0, 10, 9],\n",
       "      [64, 6, 4, 2, 8, 4, 4, 0, 0, 0, 30, 9],\n",
       "      [72, 6, 4, 0, 0, 0, 4, 1, 0, 0, 40, 9],\n",
       "      [45, 6, 4, 1, 2, 1, 4, 1, 0, 0, 20, 9]],\n",
       "     'covered_false': [[46, 6, 2, 0, 5, 0, 4, 1, 0, 0, 35, 9],\n",
       "      [42, 6, 6, 0, 5, 0, 4, 1, 0, 0, 40, 9],\n",
       "      [53, 6, 2, 0, 5, 0, 4, 1, 0, 0, 40, 9],\n",
       "      [41, 6, 3, 0, 2, 0, 4, 1, 0, 0, 40, 9],\n",
       "      [60, 6, 4, 0, 4, 0, 4, 1, 0, 0, 35, 9],\n",
       "      [63, 6, 1, 0, 6, 0, 4, 1, 0, 0, 40, 9]],\n",
       "     'uncovered_true': [],\n",
       "     'uncovered_false': []}],\n",
       "   'all_precision': 0,\n",
       "   'num_preds': 1000000,\n",
       "   'success': False,\n",
       "   'names': ['Hours per week <= 40.00',\n",
       "    'Capital Gain <= 0.00',\n",
       "    'Capital Loss <= 0.00',\n",
       "    'Workclass = Self-emp-not-inc'],\n",
       "   'prediction': 0,\n",
       "   'instance': [50, 6, 1, 0, 8, 0, 4, 1, 0, 0, 13, 9]}}}"
      ]
     },
     "metadata": {},
     "execution_count": 90
    }
   ],
   "source": [
    "respons.json()"
   ]
  },
  {
   "cell_type": "code",
   "execution_count": 9,
   "metadata": {},
   "outputs": [
    {
     "output_type": "execute_result",
     "data": {
      "text/plain": [
       "0.9623824451410659"
      ]
     },
     "metadata": {},
     "execution_count": 9
    }
   ],
   "source": [
    "respons.json()['data']['precision']"
   ]
  },
  {
   "cell_type": "code",
   "execution_count": 10,
   "metadata": {},
   "outputs": [
    {
     "output_type": "execute_result",
     "data": {
      "text/plain": [
       "0.3286"
      ]
     },
     "metadata": {},
     "execution_count": 10
    }
   ],
   "source": [
    "respons.json()['data']['coverage']"
   ]
  },
  {
   "cell_type": "code",
   "execution_count": 39,
   "metadata": {},
   "outputs": [],
   "source": [
    "from alibi.datasets import fetch_adult\n",
    "import json"
   ]
  },
  {
   "cell_type": "code",
   "execution_count": 12,
   "metadata": {},
   "outputs": [],
   "source": [
    "adult=fetch_adult()"
   ]
  },
  {
   "cell_type": "code",
   "execution_count": 102,
   "metadata": {},
   "outputs": [],
   "source": [
    "person = adult.data[239]"
   ]
  },
  {
   "cell_type": "code",
   "execution_count": 103,
   "metadata": {},
   "outputs": [],
   "source": [
    "def jsonfy_peron(features, data, category_map):\n",
    "    json_data={}\n",
    "    j=0\n",
    "    for i in range(0,len(data)-1):\n",
    "        if i in category_map.keys():\n",
    "            json_data[features[i]]=category_map[i][data[list(category_map.keys())[j]]]\n",
    "            j=j+1\n",
    "        else:\n",
    "            json_data[features[i]]=data[i]\n",
    "    return json_data"
   ]
  },
  {
   "cell_type": "code",
   "execution_count": 104,
   "metadata": {},
   "outputs": [
    {
     "output_type": "execute_result",
     "data": {
      "text/plain": [
       "{'Age': 23,\n",
       " 'Workclass': 'Private',\n",
       " 'Education': 'High School grad',\n",
       " 'Marital Status': 'Never-Married',\n",
       " 'Occupation': 'Blue-Collar',\n",
       " 'Relationship': 'Own-child',\n",
       " 'Race': 'White',\n",
       " 'Sex': 'Male',\n",
       " 'Capital Gain': 0,\n",
       " 'Capital Loss': 0,\n",
       " 'Hours per week': 40}"
      ]
     },
     "metadata": {},
     "execution_count": 104
    }
   ],
   "source": [
    "jsonfy_peron(adult.feature_names, person, adult.category_map)"
   ]
  },
  {
   "cell_type": "code",
   "execution_count": 105,
   "metadata": {},
   "outputs": [],
   "source": [
    "model_input = {\n",
    "  \"instances\":[\n",
    "    person.tolist()\n",
    "    ]\n",
    "  }"
   ]
  },
  {
   "cell_type": "code",
   "execution_count": 106,
   "metadata": {},
   "outputs": [],
   "source": [
    "respons=requests.post(inference_service_url_explain, headers={'Host': host}, json=model_input)"
   ]
  },
  {
   "cell_type": "code",
   "execution_count": 107,
   "metadata": {},
   "outputs": [
    {
     "output_type": "stream",
     "name": "stdout",
     "text": [
      "0\n['Marital Status = Never-Married', 'Relationship = Own-child']\n1.0\n0.3286\n"
     ]
    }
   ],
   "source": [
    "print(respons.json()['data']['raw']['prediction'])\n",
    "print(respons.json()['data']['anchor'])\n",
    "print(respons.json()['data']['precision'])\n",
    "print(respons.json()['data']['coverage'])\n"
   ]
  },
  {
   "cell_type": "code",
   "execution_count": null,
   "metadata": {},
   "outputs": [],
   "source": []
  }
 ]
}