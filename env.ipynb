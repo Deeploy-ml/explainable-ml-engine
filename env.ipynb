{
 "metadata": {
  "language_info": {
   "codemirror_mode": {
    "name": "ipython",
    "version": 3
   },
   "file_extension": ".py",
   "mimetype": "text/x-python",
   "name": "python",
   "nbconvert_exporter": "python",
   "pygments_lexer": "ipython3",
   "version": "3.7.6-final"
  },
  "orig_nbformat": 2,
  "kernelspec": {
   "name": "python3",
   "display_name": "Python 3.7.6 64-bit ('venv-emle')",
   "metadata": {
    "interpreter": {
     "hash": "3f4b2d32f4c63c2ae9738e5ba3619db45fa76db7d3ff8af2f09ac2f4afbb5147"
    }
   }
  }
 },
 "nbformat": 4,
 "nbformat_minor": 2,
 "cells": [
  {
   "source": [
    "# Create Python3 Virtual Environment"
   ],
   "cell_type": "markdown",
   "metadata": {}
  },
  {
   "cell_type": "code",
   "execution_count": 4,
   "metadata": {},
   "outputs": [],
   "source": [
    "%%bash\n",
    "python3 -m venv venv-emle"
   ]
  },
  {
   "cell_type": "code",
   "execution_count": 10,
   "metadata": {},
   "outputs": [],
   "source": [
    "%%bash\n",
    "source venv-emle/bin/activate"
   ]
  },
  {
   "cell_type": "code",
   "execution_count": 5,
   "metadata": {},
   "outputs": [
    {
     "output_type": "stream",
     "name": "stdout",
     "text": [
      "Requirement already satisfied: google-cloud-storage==1.32.0 in ./venv-emle/lib/python3.7/site-packages (from -r requirements.txt (line 1)) (1.32.0)\nRequirement already satisfied: kfserving==0.4.1 in ./venv-emle/lib/python3.7/site-packages (from -r requirements.txt (line 2)) (0.4.1)\nRequirement already satisfied: kubernetes==10.0.1 in ./venv-emle/lib/python3.7/site-packages (from -r requirements.txt (line 3)) (10.0.1)\nRequirement already satisfied: scikit_learn==0.20.3 in ./venv-emle/lib/python3.7/site-packages (from -r requirements.txt (line 4)) (0.20.3)\nRequirement already satisfied: joblib==0.13.0 in ./venv-emle/lib/python3.7/site-packages (from -r requirements.txt (line 5)) (0.13.0)\nRequirement already satisfied: google-resumable-media<2.0dev,>=1.0.0 in ./venv-emle/lib/python3.7/site-packages (from google-cloud-storage==1.32.0->-r requirements.txt (line 1)) (1.1.0)\nRequirement already satisfied: requests<3.0.0dev,>=2.18.0 in ./venv-emle/lib/python3.7/site-packages (from google-cloud-storage==1.32.0->-r requirements.txt (line 1)) (2.25.0)\nRequirement already satisfied: google-auth<2.0dev,>=1.11.0 in ./venv-emle/lib/python3.7/site-packages (from google-cloud-storage==1.32.0->-r requirements.txt (line 1)) (1.23.0)\nRequirement already satisfied: google-cloud-core<2.0dev,>=1.4.1 in ./venv-emle/lib/python3.7/site-packages (from google-cloud-storage==1.32.0->-r requirements.txt (line 1)) (1.4.3)\nRequirement already satisfied: argparse>=1.4.0 in ./venv-emle/lib/python3.7/site-packages (from kfserving==0.4.1->-r requirements.txt (line 2)) (1.4.0)\nRequirement already satisfied: certifi>=14.05.14 in ./venv-emle/lib/python3.7/site-packages (from kfserving==0.4.1->-r requirements.txt (line 2)) (2020.11.8)\nRequirement already satisfied: table-logger>=0.3.5 in ./venv-emle/lib/python3.7/site-packages (from kfserving==0.4.1->-r requirements.txt (line 2)) (0.3.6)\nRequirement already satisfied: python-dateutil>=2.5.3 in ./venv-emle/lib/python3.7/site-packages (from kfserving==0.4.1->-r requirements.txt (line 2)) (2.8.1)\nRequirement already satisfied: numpy>=1.17.3 in ./venv-emle/lib/python3.7/site-packages (from kfserving==0.4.1->-r requirements.txt (line 2)) (1.19.4)\nRequirement already satisfied: urllib3>=1.15.1 in ./venv-emle/lib/python3.7/site-packages (from kfserving==0.4.1->-r requirements.txt (line 2)) (1.26.1)\nRequirement already satisfied: azure-storage-blob<=2.1.0,>=1.3.0 in ./venv-emle/lib/python3.7/site-packages (from kfserving==0.4.1->-r requirements.txt (line 2)) (2.1.0)\nRequirement already satisfied: setuptools>=21.0.0 in ./venv-emle/lib/python3.7/site-packages (from kfserving==0.4.1->-r requirements.txt (line 2)) (41.2.0)\nRequirement already satisfied: minio>=4.0.9 in ./venv-emle/lib/python3.7/site-packages (from kfserving==0.4.1->-r requirements.txt (line 2)) (6.0.0)\nRequirement already satisfied: six==1.15 in ./venv-emle/lib/python3.7/site-packages (from kfserving==0.4.1->-r requirements.txt (line 2)) (1.15.0)\nRequirement already satisfied: tornado>=6.0.0 in ./venv-emle/lib/python3.7/site-packages (from kfserving==0.4.1->-r requirements.txt (line 2)) (6.1)\nRequirement already satisfied: adal>=1.2.2 in ./venv-emle/lib/python3.7/site-packages (from kfserving==0.4.1->-r requirements.txt (line 2)) (1.2.5)\nRequirement already satisfied: pyyaml>=3.12 in ./venv-emle/lib/python3.7/site-packages (from kubernetes==10.0.1->-r requirements.txt (line 3)) (5.3.1)\nRequirement already satisfied: requests-oauthlib in ./venv-emle/lib/python3.7/site-packages (from kubernetes==10.0.1->-r requirements.txt (line 3)) (1.3.0)\nRequirement already satisfied: websocket-client!=0.40.0,!=0.41.*,!=0.42.*,>=0.32.0 in ./venv-emle/lib/python3.7/site-packages (from kubernetes==10.0.1->-r requirements.txt (line 3)) (0.57.0)\nRequirement already satisfied: scipy>=0.13.3 in ./venv-emle/lib/python3.7/site-packages (from scikit_learn==0.20.3->-r requirements.txt (line 4)) (1.5.4)\nRequirement already satisfied: google-crc32c<2.0dev,>=1.0; python_version >= \"3.5\" in ./venv-emle/lib/python3.7/site-packages (from google-resumable-media<2.0dev,>=1.0.0->google-cloud-storage==1.32.0->-r requirements.txt (line 1)) (1.0.0)\nRequirement already satisfied: chardet<4,>=3.0.2 in ./venv-emle/lib/python3.7/site-packages (from requests<3.0.0dev,>=2.18.0->google-cloud-storage==1.32.0->-r requirements.txt (line 1)) (3.0.4)\nRequirement already satisfied: idna<3,>=2.5 in ./venv-emle/lib/python3.7/site-packages (from requests<3.0.0dev,>=2.18.0->google-cloud-storage==1.32.0->-r requirements.txt (line 1)) (2.10)\nRequirement already satisfied: rsa<5,>=3.1.4; python_version >= \"3.5\" in ./venv-emle/lib/python3.7/site-packages (from google-auth<2.0dev,>=1.11.0->google-cloud-storage==1.32.0->-r requirements.txt (line 1)) (4.6)\nRequirement already satisfied: cachetools<5.0,>=2.0.0 in ./venv-emle/lib/python3.7/site-packages (from google-auth<2.0dev,>=1.11.0->google-cloud-storage==1.32.0->-r requirements.txt (line 1)) (4.1.1)\nRequirement already satisfied: pyasn1-modules>=0.2.1 in ./venv-emle/lib/python3.7/site-packages (from google-auth<2.0dev,>=1.11.0->google-cloud-storage==1.32.0->-r requirements.txt (line 1)) (0.2.8)\nRequirement already satisfied: google-api-core<2.0.0dev,>=1.19.0 in ./venv-emle/lib/python3.7/site-packages (from google-cloud-core<2.0dev,>=1.4.1->google-cloud-storage==1.32.0->-r requirements.txt (line 1)) (1.23.0)\nRequirement already satisfied: azure-storage-common~=2.1 in ./venv-emle/lib/python3.7/site-packages (from azure-storage-blob<=2.1.0,>=1.3.0->kfserving==0.4.1->-r requirements.txt (line 2)) (2.1.0)\nRequirement already satisfied: azure-common>=1.1.5 in ./venv-emle/lib/python3.7/site-packages (from azure-storage-blob<=2.1.0,>=1.3.0->kfserving==0.4.1->-r requirements.txt (line 2)) (1.1.26)\nRequirement already satisfied: pytz in ./venv-emle/lib/python3.7/site-packages (from minio>=4.0.9->kfserving==0.4.1->-r requirements.txt (line 2)) (2020.4)\nRequirement already satisfied: configparser in ./venv-emle/lib/python3.7/site-packages (from minio>=4.0.9->kfserving==0.4.1->-r requirements.txt (line 2)) (5.0.1)\nRequirement already satisfied: cryptography>=1.1.0 in ./venv-emle/lib/python3.7/site-packages (from adal>=1.2.2->kfserving==0.4.1->-r requirements.txt (line 2)) (3.2.1)\nRequirement already satisfied: PyJWT>=1.0.0 in ./venv-emle/lib/python3.7/site-packages (from adal>=1.2.2->kfserving==0.4.1->-r requirements.txt (line 2)) (1.7.1)\nRequirement already satisfied: oauthlib>=3.0.0 in ./venv-emle/lib/python3.7/site-packages (from requests-oauthlib->kubernetes==10.0.1->-r requirements.txt (line 3)) (3.1.0)\nRequirement already satisfied: cffi>=1.0.0 in ./venv-emle/lib/python3.7/site-packages (from google-crc32c<2.0dev,>=1.0; python_version >= \"3.5\"->google-resumable-media<2.0dev,>=1.0.0->google-cloud-storage==1.32.0->-r requirements.txt (line 1)) (1.14.3)\nRequirement already satisfied: pyasn1>=0.1.3 in ./venv-emle/lib/python3.7/site-packages (from rsa<5,>=3.1.4; python_version >= \"3.5\"->google-auth<2.0dev,>=1.11.0->google-cloud-storage==1.32.0->-r requirements.txt (line 1)) (0.4.8)\nRequirement already satisfied: protobuf>=3.12.0 in ./venv-emle/lib/python3.7/site-packages (from google-api-core<2.0.0dev,>=1.19.0->google-cloud-core<2.0dev,>=1.4.1->google-cloud-storage==1.32.0->-r requirements.txt (line 1)) (3.13.0)\nRequirement already satisfied: googleapis-common-protos<2.0dev,>=1.6.0 in ./venv-emle/lib/python3.7/site-packages (from google-api-core<2.0.0dev,>=1.19.0->google-cloud-core<2.0dev,>=1.4.1->google-cloud-storage==1.32.0->-r requirements.txt (line 1)) (1.52.0)\nRequirement already satisfied: pycparser in ./venv-emle/lib/python3.7/site-packages (from cffi>=1.0.0->google-crc32c<2.0dev,>=1.0; python_version >= \"3.5\"->google-resumable-media<2.0dev,>=1.0.0->google-cloud-storage==1.32.0->-r requirements.txt (line 1)) (2.20)\n"
     ]
    }
   ],
   "source": [
    "%%bash\n",
    "pip3 install -r requirements.txt\n"
   ]
  },
  {
   "cell_type": "code",
   "execution_count": 3,
   "metadata": {},
   "outputs": [
    {
     "output_type": "stream",
     "name": "stdout",
     "text": [
      "Package                  Version\n------------------------ ---------\nadal                     1.2.5\nappnope                  0.1.0\nazure-common             1.1.26\nazure-storage-blob       2.1.0\nazure-storage-common     2.1.0\nbackcall                 0.2.0\ncachetools               4.1.1\ncertifi                  2020.11.8\ncffi                     1.14.3\nchardet                  3.0.4\nconfigparser             5.0.1\ncryptography             3.2.1\ndecorator                4.4.2\ngoogle-api-core          1.23.0\ngoogle-auth              1.23.0\ngoogle-cloud-core        1.4.3\ngoogle-cloud-storage     1.32.0\ngoogle-crc32c            1.0.0\ngoogle-resumable-media   1.1.0\ngoogleapis-common-protos 1.52.0\nidna                     2.10\nipykernel                5.3.4\nipython                  7.19.0\nipython-genutils         0.2.0\njedi                     0.17.2\njoblib                   0.13.0\njupyter-client           6.1.7\njupyter-core             4.6.3\nkfserving                0.4.1\nkubernetes               10.0.1\nminio                    6.0.0\nnumpy                    1.19.4\noauthlib                 3.1.0\nparso                    0.7.1\npexpect                  4.8.0\npickleshare              0.7.5\npip                      20.2.4\nprompt-toolkit           3.0.8\nprotobuf                 3.13.0\nptyprocess               0.6.0\npyasn1                   0.4.8\npyasn1-modules           0.2.8\npycparser                2.20\nPygments                 2.7.2\nPyJWT                    1.7.1\npython-dateutil          2.8.1\npytz                     2020.4\nPyYAML                   5.3.1\npyzmq                    19.0.2\nrequests                 2.25.0\nrequests-oauthlib        1.3.0\nrsa                      4.6\nscikit-learn             0.20.3\nscipy                    1.5.4\nsetuptools               41.2.0\nsix                      1.15.0\ntable-logger             0.3.6\ntornado                  6.1\ntraitlets                5.0.5\nurllib3                  1.26.1\nwcwidth                  0.2.5\nwebsocket-client         0.57.0\n"
     ]
    }
   ],
   "source": [
    "%%bash\n",
    "pip3 list"
   ]
  },
  {
   "cell_type": "code",
   "execution_count": null,
   "metadata": {},
   "outputs": [],
   "source": []
  }
 ]
}